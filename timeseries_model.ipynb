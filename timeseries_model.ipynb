{
  "cells": [
    {
      "cell_type": "markdown",
      "source": [
        "# **Import Library**"
      ],
      "metadata": {
        "id": "pQGBaFjM3q1y"
      }
    },
    {
      "cell_type": "code",
      "execution_count": 1,
      "metadata": {
        "colab": {
          "base_uri": "https://localhost:8080/"
        },
        "id": "UzifcvXLwrtH",
        "outputId": "a8dfc6b2-0027-4f73-f99f-d4436637568a"
      },
      "outputs": [
        {
          "output_type": "stream",
          "name": "stdout",
          "text": [
            "Drive already mounted at /content/drive; to attempt to forcibly remount, call drive.mount(\"/content/drive\", force_remount=True).\n"
          ]
        }
      ],
      "source": [
        "import numpy as np\n",
        "import pandas as pd\n",
        "from keras.layers import Dense, LSTM\n",
        "import matplotlib.pyplot as plt\n",
        "import tensorflow as tf\n",
        "\n",
        "from sklearn.model_selection import train_test_split\n",
        "from sklearn.preprocessing import MinMaxScaler\n",
        "\n",
        "from google.colab import drive\n",
        "drive.mount('/content/drive')"
      ]
    },
    {
      "cell_type": "markdown",
      "source": [
        "# **Read Data**"
      ],
      "metadata": {
        "id": "0o0PIYX23yJx"
      }
    },
    {
      "cell_type": "code",
      "execution_count": 2,
      "metadata": {
        "colab": {
          "base_uri": "https://localhost:8080/",
          "height": 713
        },
        "id": "ndeL-CimwrtO",
        "outputId": "61f3a8a4-8f92-4e00-8084-041160a635c9"
      },
      "outputs": [
        {
          "output_type": "execute_result",
          "data": {
            "text/plain": [
              "             Date Location ISO Code          Location  New Cases  New Deaths  \\\n",
              "0      2020-03-01             ID-JK       DKI Jakarta          2           0   \n",
              "1      2020-03-02             ID-JK       DKI Jakarta          2           0   \n",
              "2      2020-03-02               IDN         Indonesia          2           0   \n",
              "3      2020-03-02             ID-RI              Riau          1           0   \n",
              "4      2020-03-03             ID-JK       DKI Jakarta          2           0   \n",
              "...           ...               ...               ...        ...         ...   \n",
              "31817  2022-09-15             ID-SA    Sulawesi Utara         37           0   \n",
              "31818  2022-09-15             ID-SB    Sumatera Barat         13           0   \n",
              "31819  2022-09-15             ID-SS  Sumatera Selatan         16           0   \n",
              "31820  2022-09-15             ID-SU    Sumatera Utara         50           0   \n",
              "31821  2022-09-16               IDN         Indonesia       2358          27   \n",
              "\n",
              "       New Recovered  New Active Cases  Total Cases  Total Deaths  \\\n",
              "0                  0                 2           39            20   \n",
              "1                  0                 2           41            20   \n",
              "2                  0                 2            2             0   \n",
              "3                  0                 1            1             0   \n",
              "4                  0                 2           43            20   \n",
              "...              ...               ...          ...           ...   \n",
              "31817              0                37        52770          1213   \n",
              "31818              3                10       104640          2371   \n",
              "31819              1                15        82198          3376   \n",
              "31820              5                45       158866          3288   \n",
              "31821           2997              -666      6405044        157876   \n",
              "\n",
              "       Total Recovered  ...  Latitude New Cases per Million  \\\n",
              "0                   75  ... -6.204699                  0.18   \n",
              "1                   75  ... -6.204699                  0.18   \n",
              "2                    0  ... -0.789275                  0.01   \n",
              "3                    1  ...  0.511648                  0.16   \n",
              "4                   75  ... -6.204699                  0.18   \n",
              "...                ...  ...       ...                   ...   \n",
              "31817            50997  ...  1.259638                 14.01   \n",
              "31818           102066  ... -0.850253                  2.36   \n",
              "31819            78510  ... -3.216212                  1.95   \n",
              "31820           154924  ...  2.191894                  3.36   \n",
              "31821          6218708  ... -0.789275                  8.89   \n",
              "\n",
              "       Total Cases per Million New Deaths per Million  \\\n",
              "0                         3.60                    0.0   \n",
              "1                         3.78                    0.0   \n",
              "2                         0.01                    0.0   \n",
              "3                         0.16                    0.0   \n",
              "4                         3.96                    0.0   \n",
              "...                        ...                    ...   \n",
              "31817                 19974.38                    0.0   \n",
              "31818                 18959.11                    0.0   \n",
              "31819                 10002.74                    0.0   \n",
              "31820                 10680.15                    0.0   \n",
              "31821                 24153.07                    0.1   \n",
              "\n",
              "      Total Deaths per Million Total Deaths per 100rb Case Fatality Rate  \\\n",
              "0                         1.84                   0.18             51.28%   \n",
              "1                         1.84                   0.18             48.78%   \n",
              "2                         0.00                   0.00              0.00%   \n",
              "3                         0.00                   0.00              0.00%   \n",
              "4                         1.84                   0.18             46.51%   \n",
              "...                        ...                    ...                ...   \n",
              "31817                   459.14                  45.91              2.30%   \n",
              "31818                   429.59                  42.96              2.27%   \n",
              "31819                   410.83                  41.08              4.11%   \n",
              "31820                   221.04                  22.10              2.07%   \n",
              "31821                   595.34                  59.53              2.46%   \n",
              "\n",
              "      Case Recovered Rate Growth Factor of New Cases  \\\n",
              "0                 192.31%                        NaN   \n",
              "1                 182.93%                       1.00   \n",
              "2                   0.00%                        NaN   \n",
              "3                 100.00%                        NaN   \n",
              "4                 174.42%                       1.00   \n",
              "...                   ...                        ...   \n",
              "31817              96.64%                       2.85   \n",
              "31818              97.54%                       6.50   \n",
              "31819              95.51%                       3.20   \n",
              "31820              97.52%                       1.92   \n",
              "31821              97.09%                       0.89   \n",
              "\n",
              "       Growth Factor of New Deaths  \n",
              "0                              NaN  \n",
              "1                             1.00  \n",
              "2                              NaN  \n",
              "3                              NaN  \n",
              "4                             1.00  \n",
              "...                            ...  \n",
              "31817                         1.00  \n",
              "31818                         1.00  \n",
              "31819                         1.00  \n",
              "31820                         1.00  \n",
              "31821                         1.29  \n",
              "\n",
              "[31822 rows x 38 columns]"
            ],
            "text/html": [
              "\n",
              "  <div id=\"df-87cd4523-456b-4d33-aa92-c4aa2df87397\">\n",
              "    <div class=\"colab-df-container\">\n",
              "      <div>\n",
              "<style scoped>\n",
              "    .dataframe tbody tr th:only-of-type {\n",
              "        vertical-align: middle;\n",
              "    }\n",
              "\n",
              "    .dataframe tbody tr th {\n",
              "        vertical-align: top;\n",
              "    }\n",
              "\n",
              "    .dataframe thead th {\n",
              "        text-align: right;\n",
              "    }\n",
              "</style>\n",
              "<table border=\"1\" class=\"dataframe\">\n",
              "  <thead>\n",
              "    <tr style=\"text-align: right;\">\n",
              "      <th></th>\n",
              "      <th>Date</th>\n",
              "      <th>Location ISO Code</th>\n",
              "      <th>Location</th>\n",
              "      <th>New Cases</th>\n",
              "      <th>New Deaths</th>\n",
              "      <th>New Recovered</th>\n",
              "      <th>New Active Cases</th>\n",
              "      <th>Total Cases</th>\n",
              "      <th>Total Deaths</th>\n",
              "      <th>Total Recovered</th>\n",
              "      <th>...</th>\n",
              "      <th>Latitude</th>\n",
              "      <th>New Cases per Million</th>\n",
              "      <th>Total Cases per Million</th>\n",
              "      <th>New Deaths per Million</th>\n",
              "      <th>Total Deaths per Million</th>\n",
              "      <th>Total Deaths per 100rb</th>\n",
              "      <th>Case Fatality Rate</th>\n",
              "      <th>Case Recovered Rate</th>\n",
              "      <th>Growth Factor of New Cases</th>\n",
              "      <th>Growth Factor of New Deaths</th>\n",
              "    </tr>\n",
              "  </thead>\n",
              "  <tbody>\n",
              "    <tr>\n",
              "      <th>0</th>\n",
              "      <td>2020-03-01</td>\n",
              "      <td>ID-JK</td>\n",
              "      <td>DKI Jakarta</td>\n",
              "      <td>2</td>\n",
              "      <td>0</td>\n",
              "      <td>0</td>\n",
              "      <td>2</td>\n",
              "      <td>39</td>\n",
              "      <td>20</td>\n",
              "      <td>75</td>\n",
              "      <td>...</td>\n",
              "      <td>-6.204699</td>\n",
              "      <td>0.18</td>\n",
              "      <td>3.60</td>\n",
              "      <td>0.0</td>\n",
              "      <td>1.84</td>\n",
              "      <td>0.18</td>\n",
              "      <td>51.28%</td>\n",
              "      <td>192.31%</td>\n",
              "      <td>NaN</td>\n",
              "      <td>NaN</td>\n",
              "    </tr>\n",
              "    <tr>\n",
              "      <th>1</th>\n",
              "      <td>2020-03-02</td>\n",
              "      <td>ID-JK</td>\n",
              "      <td>DKI Jakarta</td>\n",
              "      <td>2</td>\n",
              "      <td>0</td>\n",
              "      <td>0</td>\n",
              "      <td>2</td>\n",
              "      <td>41</td>\n",
              "      <td>20</td>\n",
              "      <td>75</td>\n",
              "      <td>...</td>\n",
              "      <td>-6.204699</td>\n",
              "      <td>0.18</td>\n",
              "      <td>3.78</td>\n",
              "      <td>0.0</td>\n",
              "      <td>1.84</td>\n",
              "      <td>0.18</td>\n",
              "      <td>48.78%</td>\n",
              "      <td>182.93%</td>\n",
              "      <td>1.00</td>\n",
              "      <td>1.00</td>\n",
              "    </tr>\n",
              "    <tr>\n",
              "      <th>2</th>\n",
              "      <td>2020-03-02</td>\n",
              "      <td>IDN</td>\n",
              "      <td>Indonesia</td>\n",
              "      <td>2</td>\n",
              "      <td>0</td>\n",
              "      <td>0</td>\n",
              "      <td>2</td>\n",
              "      <td>2</td>\n",
              "      <td>0</td>\n",
              "      <td>0</td>\n",
              "      <td>...</td>\n",
              "      <td>-0.789275</td>\n",
              "      <td>0.01</td>\n",
              "      <td>0.01</td>\n",
              "      <td>0.0</td>\n",
              "      <td>0.00</td>\n",
              "      <td>0.00</td>\n",
              "      <td>0.00%</td>\n",
              "      <td>0.00%</td>\n",
              "      <td>NaN</td>\n",
              "      <td>NaN</td>\n",
              "    </tr>\n",
              "    <tr>\n",
              "      <th>3</th>\n",
              "      <td>2020-03-02</td>\n",
              "      <td>ID-RI</td>\n",
              "      <td>Riau</td>\n",
              "      <td>1</td>\n",
              "      <td>0</td>\n",
              "      <td>0</td>\n",
              "      <td>1</td>\n",
              "      <td>1</td>\n",
              "      <td>0</td>\n",
              "      <td>1</td>\n",
              "      <td>...</td>\n",
              "      <td>0.511648</td>\n",
              "      <td>0.16</td>\n",
              "      <td>0.16</td>\n",
              "      <td>0.0</td>\n",
              "      <td>0.00</td>\n",
              "      <td>0.00</td>\n",
              "      <td>0.00%</td>\n",
              "      <td>100.00%</td>\n",
              "      <td>NaN</td>\n",
              "      <td>NaN</td>\n",
              "    </tr>\n",
              "    <tr>\n",
              "      <th>4</th>\n",
              "      <td>2020-03-03</td>\n",
              "      <td>ID-JK</td>\n",
              "      <td>DKI Jakarta</td>\n",
              "      <td>2</td>\n",
              "      <td>0</td>\n",
              "      <td>0</td>\n",
              "      <td>2</td>\n",
              "      <td>43</td>\n",
              "      <td>20</td>\n",
              "      <td>75</td>\n",
              "      <td>...</td>\n",
              "      <td>-6.204699</td>\n",
              "      <td>0.18</td>\n",
              "      <td>3.96</td>\n",
              "      <td>0.0</td>\n",
              "      <td>1.84</td>\n",
              "      <td>0.18</td>\n",
              "      <td>46.51%</td>\n",
              "      <td>174.42%</td>\n",
              "      <td>1.00</td>\n",
              "      <td>1.00</td>\n",
              "    </tr>\n",
              "    <tr>\n",
              "      <th>...</th>\n",
              "      <td>...</td>\n",
              "      <td>...</td>\n",
              "      <td>...</td>\n",
              "      <td>...</td>\n",
              "      <td>...</td>\n",
              "      <td>...</td>\n",
              "      <td>...</td>\n",
              "      <td>...</td>\n",
              "      <td>...</td>\n",
              "      <td>...</td>\n",
              "      <td>...</td>\n",
              "      <td>...</td>\n",
              "      <td>...</td>\n",
              "      <td>...</td>\n",
              "      <td>...</td>\n",
              "      <td>...</td>\n",
              "      <td>...</td>\n",
              "      <td>...</td>\n",
              "      <td>...</td>\n",
              "      <td>...</td>\n",
              "      <td>...</td>\n",
              "    </tr>\n",
              "    <tr>\n",
              "      <th>31817</th>\n",
              "      <td>2022-09-15</td>\n",
              "      <td>ID-SA</td>\n",
              "      <td>Sulawesi Utara</td>\n",
              "      <td>37</td>\n",
              "      <td>0</td>\n",
              "      <td>0</td>\n",
              "      <td>37</td>\n",
              "      <td>52770</td>\n",
              "      <td>1213</td>\n",
              "      <td>50997</td>\n",
              "      <td>...</td>\n",
              "      <td>1.259638</td>\n",
              "      <td>14.01</td>\n",
              "      <td>19974.38</td>\n",
              "      <td>0.0</td>\n",
              "      <td>459.14</td>\n",
              "      <td>45.91</td>\n",
              "      <td>2.30%</td>\n",
              "      <td>96.64%</td>\n",
              "      <td>2.85</td>\n",
              "      <td>1.00</td>\n",
              "    </tr>\n",
              "    <tr>\n",
              "      <th>31818</th>\n",
              "      <td>2022-09-15</td>\n",
              "      <td>ID-SB</td>\n",
              "      <td>Sumatera Barat</td>\n",
              "      <td>13</td>\n",
              "      <td>0</td>\n",
              "      <td>3</td>\n",
              "      <td>10</td>\n",
              "      <td>104640</td>\n",
              "      <td>2371</td>\n",
              "      <td>102066</td>\n",
              "      <td>...</td>\n",
              "      <td>-0.850253</td>\n",
              "      <td>2.36</td>\n",
              "      <td>18959.11</td>\n",
              "      <td>0.0</td>\n",
              "      <td>429.59</td>\n",
              "      <td>42.96</td>\n",
              "      <td>2.27%</td>\n",
              "      <td>97.54%</td>\n",
              "      <td>6.50</td>\n",
              "      <td>1.00</td>\n",
              "    </tr>\n",
              "    <tr>\n",
              "      <th>31819</th>\n",
              "      <td>2022-09-15</td>\n",
              "      <td>ID-SS</td>\n",
              "      <td>Sumatera Selatan</td>\n",
              "      <td>16</td>\n",
              "      <td>0</td>\n",
              "      <td>1</td>\n",
              "      <td>15</td>\n",
              "      <td>82198</td>\n",
              "      <td>3376</td>\n",
              "      <td>78510</td>\n",
              "      <td>...</td>\n",
              "      <td>-3.216212</td>\n",
              "      <td>1.95</td>\n",
              "      <td>10002.74</td>\n",
              "      <td>0.0</td>\n",
              "      <td>410.83</td>\n",
              "      <td>41.08</td>\n",
              "      <td>4.11%</td>\n",
              "      <td>95.51%</td>\n",
              "      <td>3.20</td>\n",
              "      <td>1.00</td>\n",
              "    </tr>\n",
              "    <tr>\n",
              "      <th>31820</th>\n",
              "      <td>2022-09-15</td>\n",
              "      <td>ID-SU</td>\n",
              "      <td>Sumatera Utara</td>\n",
              "      <td>50</td>\n",
              "      <td>0</td>\n",
              "      <td>5</td>\n",
              "      <td>45</td>\n",
              "      <td>158866</td>\n",
              "      <td>3288</td>\n",
              "      <td>154924</td>\n",
              "      <td>...</td>\n",
              "      <td>2.191894</td>\n",
              "      <td>3.36</td>\n",
              "      <td>10680.15</td>\n",
              "      <td>0.0</td>\n",
              "      <td>221.04</td>\n",
              "      <td>22.10</td>\n",
              "      <td>2.07%</td>\n",
              "      <td>97.52%</td>\n",
              "      <td>1.92</td>\n",
              "      <td>1.00</td>\n",
              "    </tr>\n",
              "    <tr>\n",
              "      <th>31821</th>\n",
              "      <td>2022-09-16</td>\n",
              "      <td>IDN</td>\n",
              "      <td>Indonesia</td>\n",
              "      <td>2358</td>\n",
              "      <td>27</td>\n",
              "      <td>2997</td>\n",
              "      <td>-666</td>\n",
              "      <td>6405044</td>\n",
              "      <td>157876</td>\n",
              "      <td>6218708</td>\n",
              "      <td>...</td>\n",
              "      <td>-0.789275</td>\n",
              "      <td>8.89</td>\n",
              "      <td>24153.07</td>\n",
              "      <td>0.1</td>\n",
              "      <td>595.34</td>\n",
              "      <td>59.53</td>\n",
              "      <td>2.46%</td>\n",
              "      <td>97.09%</td>\n",
              "      <td>0.89</td>\n",
              "      <td>1.29</td>\n",
              "    </tr>\n",
              "  </tbody>\n",
              "</table>\n",
              "<p>31822 rows × 38 columns</p>\n",
              "</div>\n",
              "      <button class=\"colab-df-convert\" onclick=\"convertToInteractive('df-87cd4523-456b-4d33-aa92-c4aa2df87397')\"\n",
              "              title=\"Convert this dataframe to an interactive table.\"\n",
              "              style=\"display:none;\">\n",
              "        \n",
              "  <svg xmlns=\"http://www.w3.org/2000/svg\" height=\"24px\"viewBox=\"0 0 24 24\"\n",
              "       width=\"24px\">\n",
              "    <path d=\"M0 0h24v24H0V0z\" fill=\"none\"/>\n",
              "    <path d=\"M18.56 5.44l.94 2.06.94-2.06 2.06-.94-2.06-.94-.94-2.06-.94 2.06-2.06.94zm-11 1L8.5 8.5l.94-2.06 2.06-.94-2.06-.94L8.5 2.5l-.94 2.06-2.06.94zm10 10l.94 2.06.94-2.06 2.06-.94-2.06-.94-.94-2.06-.94 2.06-2.06.94z\"/><path d=\"M17.41 7.96l-1.37-1.37c-.4-.4-.92-.59-1.43-.59-.52 0-1.04.2-1.43.59L10.3 9.45l-7.72 7.72c-.78.78-.78 2.05 0 2.83L4 21.41c.39.39.9.59 1.41.59.51 0 1.02-.2 1.41-.59l7.78-7.78 2.81-2.81c.8-.78.8-2.07 0-2.86zM5.41 20L4 18.59l7.72-7.72 1.47 1.35L5.41 20z\"/>\n",
              "  </svg>\n",
              "      </button>\n",
              "      \n",
              "  <style>\n",
              "    .colab-df-container {\n",
              "      display:flex;\n",
              "      flex-wrap:wrap;\n",
              "      gap: 12px;\n",
              "    }\n",
              "\n",
              "    .colab-df-convert {\n",
              "      background-color: #E8F0FE;\n",
              "      border: none;\n",
              "      border-radius: 50%;\n",
              "      cursor: pointer;\n",
              "      display: none;\n",
              "      fill: #1967D2;\n",
              "      height: 32px;\n",
              "      padding: 0 0 0 0;\n",
              "      width: 32px;\n",
              "    }\n",
              "\n",
              "    .colab-df-convert:hover {\n",
              "      background-color: #E2EBFA;\n",
              "      box-shadow: 0px 1px 2px rgba(60, 64, 67, 0.3), 0px 1px 3px 1px rgba(60, 64, 67, 0.15);\n",
              "      fill: #174EA6;\n",
              "    }\n",
              "\n",
              "    [theme=dark] .colab-df-convert {\n",
              "      background-color: #3B4455;\n",
              "      fill: #D2E3FC;\n",
              "    }\n",
              "\n",
              "    [theme=dark] .colab-df-convert:hover {\n",
              "      background-color: #434B5C;\n",
              "      box-shadow: 0px 1px 3px 1px rgba(0, 0, 0, 0.15);\n",
              "      filter: drop-shadow(0px 1px 2px rgba(0, 0, 0, 0.3));\n",
              "      fill: #FFFFFF;\n",
              "    }\n",
              "  </style>\n",
              "\n",
              "      <script>\n",
              "        const buttonEl =\n",
              "          document.querySelector('#df-87cd4523-456b-4d33-aa92-c4aa2df87397 button.colab-df-convert');\n",
              "        buttonEl.style.display =\n",
              "          google.colab.kernel.accessAllowed ? 'block' : 'none';\n",
              "\n",
              "        async function convertToInteractive(key) {\n",
              "          const element = document.querySelector('#df-87cd4523-456b-4d33-aa92-c4aa2df87397');\n",
              "          const dataTable =\n",
              "            await google.colab.kernel.invokeFunction('convertToInteractive',\n",
              "                                                     [key], {});\n",
              "          if (!dataTable) return;\n",
              "\n",
              "          const docLinkHtml = 'Like what you see? Visit the ' +\n",
              "            '<a target=\"_blank\" href=https://colab.research.google.com/notebooks/data_table.ipynb>data table notebook</a>'\n",
              "            + ' to learn more about interactive tables.';\n",
              "          element.innerHTML = '';\n",
              "          dataTable['output_type'] = 'display_data';\n",
              "          await google.colab.output.renderOutput(dataTable, element);\n",
              "          const docLink = document.createElement('div');\n",
              "          docLink.innerHTML = docLinkHtml;\n",
              "          element.appendChild(docLink);\n",
              "        }\n",
              "      </script>\n",
              "    </div>\n",
              "  </div>\n",
              "  "
            ]
          },
          "metadata": {},
          "execution_count": 2
        }
      ],
      "source": [
        "data_train = pd.read_csv(\"/content/drive/Othercomputers/My Laptop/timeseries_submission/covid_19_indonesia_time_series_all.csv\")\n",
        "data_train"
      ]
    },
    {
      "cell_type": "markdown",
      "source": [
        "# **Preprocessing**"
      ],
      "metadata": {
        "id": "_QGZ0xDC33pE"
      }
    },
    {
      "cell_type": "code",
      "source": [
        "data_train = data_train[['Date', 'New Cases']]\n",
        "data_train"
      ],
      "metadata": {
        "colab": {
          "base_uri": "https://localhost:8080/",
          "height": 424
        },
        "id": "g40CPMLtHUBq",
        "outputId": "617933bf-e3ae-4559-a624-04ebfb9e8ad8"
      },
      "execution_count": 3,
      "outputs": [
        {
          "output_type": "execute_result",
          "data": {
            "text/plain": [
              "             Date  New Cases\n",
              "0      2020-03-01          2\n",
              "1      2020-03-02          2\n",
              "2      2020-03-02          2\n",
              "3      2020-03-02          1\n",
              "4      2020-03-03          2\n",
              "...           ...        ...\n",
              "31817  2022-09-15         37\n",
              "31818  2022-09-15         13\n",
              "31819  2022-09-15         16\n",
              "31820  2022-09-15         50\n",
              "31821  2022-09-16       2358\n",
              "\n",
              "[31822 rows x 2 columns]"
            ],
            "text/html": [
              "\n",
              "  <div id=\"df-83d3d1f0-15bb-4dde-8816-55007c1bf1db\">\n",
              "    <div class=\"colab-df-container\">\n",
              "      <div>\n",
              "<style scoped>\n",
              "    .dataframe tbody tr th:only-of-type {\n",
              "        vertical-align: middle;\n",
              "    }\n",
              "\n",
              "    .dataframe tbody tr th {\n",
              "        vertical-align: top;\n",
              "    }\n",
              "\n",
              "    .dataframe thead th {\n",
              "        text-align: right;\n",
              "    }\n",
              "</style>\n",
              "<table border=\"1\" class=\"dataframe\">\n",
              "  <thead>\n",
              "    <tr style=\"text-align: right;\">\n",
              "      <th></th>\n",
              "      <th>Date</th>\n",
              "      <th>New Cases</th>\n",
              "    </tr>\n",
              "  </thead>\n",
              "  <tbody>\n",
              "    <tr>\n",
              "      <th>0</th>\n",
              "      <td>2020-03-01</td>\n",
              "      <td>2</td>\n",
              "    </tr>\n",
              "    <tr>\n",
              "      <th>1</th>\n",
              "      <td>2020-03-02</td>\n",
              "      <td>2</td>\n",
              "    </tr>\n",
              "    <tr>\n",
              "      <th>2</th>\n",
              "      <td>2020-03-02</td>\n",
              "      <td>2</td>\n",
              "    </tr>\n",
              "    <tr>\n",
              "      <th>3</th>\n",
              "      <td>2020-03-02</td>\n",
              "      <td>1</td>\n",
              "    </tr>\n",
              "    <tr>\n",
              "      <th>4</th>\n",
              "      <td>2020-03-03</td>\n",
              "      <td>2</td>\n",
              "    </tr>\n",
              "    <tr>\n",
              "      <th>...</th>\n",
              "      <td>...</td>\n",
              "      <td>...</td>\n",
              "    </tr>\n",
              "    <tr>\n",
              "      <th>31817</th>\n",
              "      <td>2022-09-15</td>\n",
              "      <td>37</td>\n",
              "    </tr>\n",
              "    <tr>\n",
              "      <th>31818</th>\n",
              "      <td>2022-09-15</td>\n",
              "      <td>13</td>\n",
              "    </tr>\n",
              "    <tr>\n",
              "      <th>31819</th>\n",
              "      <td>2022-09-15</td>\n",
              "      <td>16</td>\n",
              "    </tr>\n",
              "    <tr>\n",
              "      <th>31820</th>\n",
              "      <td>2022-09-15</td>\n",
              "      <td>50</td>\n",
              "    </tr>\n",
              "    <tr>\n",
              "      <th>31821</th>\n",
              "      <td>2022-09-16</td>\n",
              "      <td>2358</td>\n",
              "    </tr>\n",
              "  </tbody>\n",
              "</table>\n",
              "<p>31822 rows × 2 columns</p>\n",
              "</div>\n",
              "      <button class=\"colab-df-convert\" onclick=\"convertToInteractive('df-83d3d1f0-15bb-4dde-8816-55007c1bf1db')\"\n",
              "              title=\"Convert this dataframe to an interactive table.\"\n",
              "              style=\"display:none;\">\n",
              "        \n",
              "  <svg xmlns=\"http://www.w3.org/2000/svg\" height=\"24px\"viewBox=\"0 0 24 24\"\n",
              "       width=\"24px\">\n",
              "    <path d=\"M0 0h24v24H0V0z\" fill=\"none\"/>\n",
              "    <path d=\"M18.56 5.44l.94 2.06.94-2.06 2.06-.94-2.06-.94-.94-2.06-.94 2.06-2.06.94zm-11 1L8.5 8.5l.94-2.06 2.06-.94-2.06-.94L8.5 2.5l-.94 2.06-2.06.94zm10 10l.94 2.06.94-2.06 2.06-.94-2.06-.94-.94-2.06-.94 2.06-2.06.94z\"/><path d=\"M17.41 7.96l-1.37-1.37c-.4-.4-.92-.59-1.43-.59-.52 0-1.04.2-1.43.59L10.3 9.45l-7.72 7.72c-.78.78-.78 2.05 0 2.83L4 21.41c.39.39.9.59 1.41.59.51 0 1.02-.2 1.41-.59l7.78-7.78 2.81-2.81c.8-.78.8-2.07 0-2.86zM5.41 20L4 18.59l7.72-7.72 1.47 1.35L5.41 20z\"/>\n",
              "  </svg>\n",
              "      </button>\n",
              "      \n",
              "  <style>\n",
              "    .colab-df-container {\n",
              "      display:flex;\n",
              "      flex-wrap:wrap;\n",
              "      gap: 12px;\n",
              "    }\n",
              "\n",
              "    .colab-df-convert {\n",
              "      background-color: #E8F0FE;\n",
              "      border: none;\n",
              "      border-radius: 50%;\n",
              "      cursor: pointer;\n",
              "      display: none;\n",
              "      fill: #1967D2;\n",
              "      height: 32px;\n",
              "      padding: 0 0 0 0;\n",
              "      width: 32px;\n",
              "    }\n",
              "\n",
              "    .colab-df-convert:hover {\n",
              "      background-color: #E2EBFA;\n",
              "      box-shadow: 0px 1px 2px rgba(60, 64, 67, 0.3), 0px 1px 3px 1px rgba(60, 64, 67, 0.15);\n",
              "      fill: #174EA6;\n",
              "    }\n",
              "\n",
              "    [theme=dark] .colab-df-convert {\n",
              "      background-color: #3B4455;\n",
              "      fill: #D2E3FC;\n",
              "    }\n",
              "\n",
              "    [theme=dark] .colab-df-convert:hover {\n",
              "      background-color: #434B5C;\n",
              "      box-shadow: 0px 1px 3px 1px rgba(0, 0, 0, 0.15);\n",
              "      filter: drop-shadow(0px 1px 2px rgba(0, 0, 0, 0.3));\n",
              "      fill: #FFFFFF;\n",
              "    }\n",
              "  </style>\n",
              "\n",
              "      <script>\n",
              "        const buttonEl =\n",
              "          document.querySelector('#df-83d3d1f0-15bb-4dde-8816-55007c1bf1db button.colab-df-convert');\n",
              "        buttonEl.style.display =\n",
              "          google.colab.kernel.accessAllowed ? 'block' : 'none';\n",
              "\n",
              "        async function convertToInteractive(key) {\n",
              "          const element = document.querySelector('#df-83d3d1f0-15bb-4dde-8816-55007c1bf1db');\n",
              "          const dataTable =\n",
              "            await google.colab.kernel.invokeFunction('convertToInteractive',\n",
              "                                                     [key], {});\n",
              "          if (!dataTable) return;\n",
              "\n",
              "          const docLinkHtml = 'Like what you see? Visit the ' +\n",
              "            '<a target=\"_blank\" href=https://colab.research.google.com/notebooks/data_table.ipynb>data table notebook</a>'\n",
              "            + ' to learn more about interactive tables.';\n",
              "          element.innerHTML = '';\n",
              "          dataTable['output_type'] = 'display_data';\n",
              "          await google.colab.output.renderOutput(dataTable, element);\n",
              "          const docLink = document.createElement('div');\n",
              "          docLink.innerHTML = docLinkHtml;\n",
              "          element.appendChild(docLink);\n",
              "        }\n",
              "      </script>\n",
              "    </div>\n",
              "  </div>\n",
              "  "
            ]
          },
          "metadata": {},
          "execution_count": 3
        }
      ]
    },
    {
      "cell_type": "code",
      "execution_count": 4,
      "metadata": {
        "id": "yqcVshm_wrtQ",
        "colab": {
          "base_uri": "https://localhost:8080/"
        },
        "outputId": "7f198588-648e-46ca-85c2-a4de90c0baed"
      },
      "outputs": [
        {
          "output_type": "stream",
          "name": "stderr",
          "text": [
            "/usr/local/lib/python3.7/dist-packages/ipykernel_launcher.py:2: SettingWithCopyWarning: \n",
            "A value is trying to be set on a copy of a slice from a DataFrame.\n",
            "Try using .loc[row_indexer,col_indexer] = value instead\n",
            "\n",
            "See the caveats in the documentation: https://pandas.pydata.org/pandas-docs/stable/user_guide/indexing.html#returning-a-view-versus-a-copy\n",
            "  \n"
          ]
        }
      ],
      "source": [
        "scaler = MinMaxScaler()\n",
        "data_train['New Cases'] = scaler.fit_transform(data_train['New Cases'].values.reshape(-1,1))"
      ]
    },
    {
      "cell_type": "code",
      "execution_count": 5,
      "metadata": {
        "colab": {
          "base_uri": "https://localhost:8080/",
          "height": 341
        },
        "id": "jFd9m2zKwrtR",
        "outputId": "08b21daa-9c47-49b3-dc0f-6823a70952a7"
      },
      "outputs": [
        {
          "output_type": "display_data",
          "data": {
            "text/plain": [
              "<Figure size 1080x360 with 1 Axes>"
            ],
            "image/png": "[encoded data removed]"
          },
          "metadata": {
            "needs_background": "light"
          }
        }
      ],
      "source": [
        "dates = data_train['Date'].values\n",
        "cases  = data_train['New Cases']\n",
        "\n",
        "plt.figure(figsize=(15,5))\n",
        "plt.plot(dates, cases)\n",
        "plt.title('New Cases', fontsize=20);"
      ]
    },
    {
      "cell_type": "code",
      "execution_count": 6,
      "metadata": {
        "id": "oA0pIXX-wrtS"
      },
      "outputs": [],
      "source": [
        "def windowed_dataset(series, window_size, batch_size, shuffle_buffer):\n",
        "    series = tf.expand_dims(series, axis=-1)\n",
        "    ds = tf.data.Dataset.from_tensor_slices(series)\n",
        "    ds = ds.window(window_size + 1, shift=1, drop_remainder=True)\n",
        "    ds = ds.flat_map(lambda w: w.batch(window_size + 1))\n",
        "    ds = ds.shuffle(shuffle_buffer)\n",
        "    ds = ds.map(lambda w: (w[:-1], w[-1:]))\n",
        "    return ds.batch(batch_size).prefetch(1)"
      ]
    },
    {
      "cell_type": "code",
      "execution_count": 7,
      "metadata": {
        "id": "xEMQAG-HwrtT"
      },
      "outputs": [],
      "source": [
        "train_size = int(len(cases) * 0.8)\n",
        "time = np.array(range(len(cases)))\n",
        "series = np.array(cases)\n",
        "time_train = time[:train_size]\n",
        "x_train = series[:train_size]\n",
        "time_valid = time[train_size:]\n",
        "x_valid = series[train_size:]"
      ]
    },
    {
      "cell_type": "code",
      "execution_count": 8,
      "metadata": {
        "id": "Num21LH8wrtU"
      },
      "outputs": [],
      "source": [
        "train_set = windowed_dataset(\n",
        "    x_train, window_size=60,\n",
        "    batch_size=100,\n",
        "    shuffle_buffer=1000)\n",
        "\n",
        "valid_set = windowed_dataset(\n",
        "    x_valid, window_size=60,\n",
        "    batch_size=100,\n",
        "    shuffle_buffer=1000)"
      ]
    },
    {
      "cell_type": "code",
      "source": [
        "for x, y in train_set.take(1):\n",
        "    print(x[0])\n",
        "    print(y[0])"
      ],
      "metadata": {
        "colab": {
          "base_uri": "https://localhost:8080/"
        },
        "id": "6vwTo2hAGUxA",
        "outputId": "548e4b4d-91c4-4d44-f6a6-2ae3c931783a"
      },
      "execution_count": 9,
      "outputs": [
        {
          "output_type": "stream",
          "name": "stdout",
          "text": [
            "tf.Tensor(\n",
            "[[3.09033036e-05]\n",
            " [0.00000000e+00]\n",
            " [0.00000000e+00]\n",
            " [1.08161562e-04]\n",
            " [0.00000000e+00]\n",
            " [0.00000000e+00]\n",
            " [3.09033036e-05]\n",
            " [1.54516518e-04]\n",
            " [4.63549553e-05]\n",
            " [1.23613214e-04]\n",
            " [1.54516518e-05]\n",
            " [1.08161562e-04]\n",
            " [4.63549553e-05]\n",
            " [9.27099107e-05]\n",
            " [0.00000000e+00]\n",
            " [2.31774777e-04]\n",
            " [2.31774777e-04]\n",
            " [0.00000000e+00]\n",
            " [2.68858741e-03]\n",
            " [1.54516518e-05]\n",
            " [4.63549553e-05]\n",
            " [5.87162768e-03]\n",
            " [1.54516518e-05]\n",
            " [1.08161562e-04]\n",
            " [2.31774777e-04]\n",
            " [2.00871473e-04]\n",
            " [1.23613214e-04]\n",
            " [1.39064866e-04]\n",
            " [1.54516518e-05]\n",
            " [1.39064866e-04]\n",
            " [1.23613214e-04]\n",
            " [1.54516518e-05]\n",
            " [1.08161562e-04]\n",
            " [7.72582589e-05]\n",
            " [0.00000000e+00]\n",
            " [0.00000000e+00]\n",
            " [1.23613214e-04]\n",
            " [0.00000000e+00]\n",
            " [9.27099107e-05]\n",
            " [4.63549553e-05]\n",
            " [7.72582589e-05]\n",
            " [0.00000000e+00]\n",
            " [4.17194598e-04]\n",
            " [0.00000000e+00]\n",
            " [4.63549553e-05]\n",
            " [0.00000000e+00]\n",
            " [0.00000000e+00]\n",
            " [2.78129732e-04]\n",
            " [1.54516518e-05]\n",
            " [0.00000000e+00]\n",
            " [1.69968170e-04]\n",
            " [1.39064866e-04]\n",
            " [0.00000000e+00]\n",
            " [2.62678080e-03]\n",
            " [1.54516518e-05]\n",
            " [0.00000000e+00]\n",
            " [6.28882228e-03]\n",
            " [1.54516518e-05]\n",
            " [6.48969375e-04]\n",
            " [2.16323125e-04]], shape=(60, 1), dtype=float64)\n",
            "tf.Tensor([[0.00015452]], shape=(1, 1), dtype=float64)\n"
          ]
        }
      ]
    },
    {
      "cell_type": "markdown",
      "source": [
        "# **Data Training**"
      ],
      "metadata": {
        "id": "qHwpaZD83-rW"
      }
    },
    {
      "cell_type": "code",
      "execution_count": 10,
      "metadata": {
        "id": "-_Lia6HowrtW"
      },
      "outputs": [],
      "source": [
        "model = tf.keras.models.Sequential([\n",
        "    tf.keras.layers.LSTM(60, return_sequences=True),\n",
        "    tf.keras.layers.LSTM(60),\n",
        "    tf.keras.layers.Dense(30, activation=\"relu\"),\n",
        "    tf.keras.layers.Dropout(0.2),\n",
        "    tf.keras.layers.Dense(10, activation=\"relu\"),\n",
        "    tf.keras.layers.Dropout(0.2),\n",
        "    tf.keras.layers.Dense(1),\n",
        "])"
      ]
    },
    {
      "cell_type": "code",
      "execution_count": 11,
      "metadata": {
        "id": "fsXAY6z5wrtY"
      },
      "outputs": [],
      "source": [
        "threshold_mae = (data_train['New Cases'].max() - data_train['New Cases'].min()) * 10/100\n",
        "\n",
        "class myCallback(tf.keras.callbacks.Callback):\n",
        "    def on_epoch_end(self, epoch, logs={}):\n",
        "        if(logs.get('mae')<threshold_mae):\n",
        "            print(\"mae < 10%\")\n",
        "            self.model.stop_training = True\n",
        "\n",
        "callbacks = myCallback()"
      ]
    },
    {
      "cell_type": "code",
      "execution_count": 12,
      "metadata": {
        "colab": {
          "base_uri": "https://localhost:8080/"
        },
        "id": "L2T-07vNwrtZ",
        "outputId": "85b9b562-c329-4a50-f0c9-62074dbf6435"
      },
      "outputs": [
        {
          "output_type": "stream",
          "name": "stdout",
          "text": [
            "Epoch 1/20\n",
            "    254/Unknown - 38s 120ms/step - loss: 8.1106e-04 - mae: 0.0073 - accuracy: 0.1093mae < 10%\n",
            "254/254 [==============================] - 44s 146ms/step - loss: 8.1106e-04 - mae: 0.0073 - accuracy: 0.1093 - val_loss: 4.1277e-05 - val_mae: 0.0044 - val_accuracy: 0.2044\n"
          ]
        }
      ],
      "source": [
        "optimizer = tf.keras.optimizers.SGD(learning_rate=1.0000e-04, momentum=0.9)\n",
        "\n",
        "model.compile(loss=tf.keras.losses.Huber(),\n",
        "              optimizer=optimizer,\n",
        "              metrics=[\"mae\", \"accuracy\"])\n",
        "\n",
        "history = model.fit(train_set, epochs=20,\n",
        "                    validation_data=valid_set,\n",
        "                    callbacks=[callbacks],\n",
        "                    batch_size=128)\n"
      ]
    },
    {
      "cell_type": "markdown",
      "source": [
        "# **Plot**"
      ],
      "metadata": {
        "id": "1eg5shcW4GA8"
      }
    },
    {
      "cell_type": "markdown",
      "source": [
        "# **MAE**"
      ],
      "metadata": {
        "id": "E5TLZgPG5hSY"
      }
    },
    {
      "cell_type": "code",
      "execution_count": 13,
      "metadata": {
        "id": "n7JP61DsxJz8",
        "colab": {
          "base_uri": "https://localhost:8080/",
          "height": 295
        },
        "outputId": "f8f264a3-d7a1-4eea-b3d9-2e6a720d55c6"
      },
      "outputs": [
        {
          "output_type": "display_data",
          "data": {
            "text/plain": [
              "<Figure size 432x288 with 1 Axes>"
            ],
            "image/png": "[encoded data removed]"
          },
          "metadata": {
            "needs_background": "light"
          }
        }
      ],
      "source": [
        "plt.plot(history.history['mae'])\n",
        "plt.title('MAE')\n",
        "plt.ylabel('MAE')\n",
        "plt.xlabel('Epoch')\n",
        "plt.legend(['mae'], loc='lower right')\n",
        "plt.show()"
      ]
    },
    {
      "cell_type": "code",
      "source": [
        "plt.plot(history.history['val_mae'])\n",
        "plt.title('Validation MAE')\n",
        "plt.ylabel('MAE')\n",
        "plt.xlabel('Epoch')\n",
        "plt.legend(['MAE'], loc='lower right')\n",
        "plt.show()"
      ],
      "metadata": {
        "colab": {
          "base_uri": "https://localhost:8080/",
          "height": 295
        },
        "id": "6kclb_5D5_a-",
        "outputId": "3b0e502d-610e-4db8-f2dd-9dc4b209d9b6"
      },
      "execution_count": 14,
      "outputs": [
        {
          "output_type": "display_data",
          "data": {
            "text/plain": [
              "<Figure size 432x288 with 1 Axes>"
            ],
            "image/png": "[encoded data removed]"
          },
          "metadata": {
            "needs_background": "light"
          }
        }
      ]
    },
    {
      "cell_type": "markdown",
      "source": [
        "## **Accuracy**"
      ],
      "metadata": {
        "id": "0gnuowAh5jhK"
      }
    },
    {
      "cell_type": "code",
      "source": [
        "plt.plot(history.history['accuracy'])\n",
        "plt.title('Train Accuracy')\n",
        "plt.ylabel('Accuracy')\n",
        "plt.xlabel('Epoch')\n",
        "plt.legend(['Accuracy'], loc='lower right')\n",
        "plt.show()"
      ],
      "metadata": {
        "colab": {
          "base_uri": "https://localhost:8080/",
          "height": 295
        },
        "id": "wxbe1UXx53x5",
        "outputId": "a482bf5e-fa20-49b1-fec3-5a29344bbfdc"
      },
      "execution_count": 15,
      "outputs": [
        {
          "output_type": "display_data",
          "data": {
            "text/plain": [
              "<Figure size 432x288 with 1 Axes>"
            ],
            "image/png": "[encoded data removed]"
          },
          "metadata": {
            "needs_background": "light"
          }
        }
      ]
    },
    {
      "cell_type": "code",
      "source": [
        "plt.plot(history.history['val_accuracy'])\n",
        "plt.title('Validation Accuracy')\n",
        "plt.ylabel('Accuracy')\n",
        "plt.xlabel('Epoch')\n",
        "plt.legend(['Validation'], loc='lower right')\n",
        "plt.show()"
      ],
      "metadata": {
        "colab": {
          "base_uri": "https://localhost:8080/",
          "height": 295
        },
        "id": "NKNxNpwW55_-",
        "outputId": "985e5749-751f-43d2-92df-88cfe2d5e483"
      },
      "execution_count": 16,
      "outputs": [
        {
          "output_type": "display_data",
          "data": {
            "text/plain": [
              "<Figure size 432x288 with 1 Axes>"
            ],
            "image/png": "[encoded data removed]"
          },
          "metadata": {
            "needs_background": "light"
          }
        }
      ]
    },
    {
      "cell_type": "markdown",
      "source": [
        "## **Loss**"
      ],
      "metadata": {
        "id": "BZKdN9fN5oSl"
      }
    },
    {
      "cell_type": "code",
      "execution_count": 17,
      "metadata": {
        "id": "jqq_IIzpxgsn",
        "colab": {
          "base_uri": "https://localhost:8080/",
          "height": 295
        },
        "outputId": "79fc6be5-7cb9-4220-8d70-2328f6c28b2e"
      },
      "outputs": [
        {
          "output_type": "display_data",
          "data": {
            "text/plain": [
              "<Figure size 432x288 with 1 Axes>"
            ],
            "image/png": "[encoded data removed]"
          },
          "metadata": {
            "needs_background": "light"
          }
        }
      ],
      "source": [
        "plt.plot(history.history['loss'])\n",
        "plt.title('Train Loss')\n",
        "plt.ylabel('Loss')\n",
        "plt.xlabel('Epoch')\n",
        "plt.legend(['Loss'], loc='lower right')\n",
        "plt.show()"
      ]
    },
    {
      "cell_type": "code",
      "source": [
        "plt.plot(history.history['val_loss'])\n",
        "plt.title('Validation Loss')\n",
        "plt.ylabel('Loss')\n",
        "plt.xlabel('Epoch')\n",
        "plt.legend(['Loss'], loc='lower right')\n",
        "plt.show()"
      ],
      "metadata": {
        "colab": {
          "base_uri": "https://localhost:8080/",
          "height": 295
        },
        "id": "lMC-EOVl58w6",
        "outputId": "efad0c59-1dea-4690-ed06-599ce23a7bf1"
      },
      "execution_count": 18,
      "outputs": [
        {
          "output_type": "display_data",
          "data": {
            "text/plain": [
              "<Figure size 432x288 with 1 Axes>"
            ],
            "image/png": "[encoded data removed]"
          },
          "metadata": {
            "needs_background": "light"
          }
        }
      ]
    }
  ],
  "metadata": {
    "colab": {
      "provenance": []
    },
    "kernelspec": {
      "display_name": "Python 3.9.13 ('base')",
      "language": "python",
      "name": "python3"
    },
    "language_info": {
      "codemirror_mode": {
        "name": "ipython",
        "version": 3
      },
      "file_extension": ".py",
      "mimetype": "text/x-python",
      "name": "python",
      "nbconvert_exporter": "python",
      "pygments_lexer": "ipython3",
      "version": "3.9.13"
    },
    "vscode": {
      "interpreter": {
        "hash": "901eb36614fec75f9c17ab3a6985e466cc9f8e097f22084bf08eb016a06cadc1"
      }
    }
  },
  "nbformat": 4,
  "nbformat_minor": 0
}